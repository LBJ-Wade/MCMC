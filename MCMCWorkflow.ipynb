{
 "cells": [
  {
   "cell_type": "markdown",
   "metadata": {},
   "source": [
    "# Tracking MCMC Workflow\n",
    "This notebook attempts to track the workflow of MCMC. This notebook has MANY purposes.\n",
    "\n",
    "First, we inject a signal. For the injection, MCMC uses the following workflow.\n",
    "\n",
    "MCMC calls ===> LALInferenceInjectInspiralSignal which calls ===>\n",
    "[XLALSimInspiralChooseTDWaveform](http://software.ligo.org/docs/lalsuite/lalsimulation/group___l_a_l_sim_inspiral__c.html#gaf8e3028cce411328ddc1a3efa6f43cb2) ==>\n",
    "does a giant switch..case.. over all the possible approximants. For a precessing waveform such as SpinTaylorT4 the inclination S1 and S2 from the injection XML gets passed through\n",
    "[XLALSimInspiralInitialConditionsPrecessingApproxs](http://software.ligo.org/docs/lalsuite/lalsimulation/group___l_a_l_sim_inspiral_spin_taylor__c.html#gadc3d6ebbe9e62c8d7ea93b489db00bdb) which expects by default Input: x, y, z components S1 and S2 wrt reference L for axisChoice = LAL_SIM_INSPIRAL_FRAME_AXIS_ORBITAL_L/L and N (Nx ∝sin(inc), Ly=0) for axisChoice = LAL_SIM_INSPIRAL_FRAME_AXIS_ORBITAL_L (default) and outputs S1 and S2 Output: x, y, z components S1 and S2 wrt N and inc angle between L and N as required by precessing waveforms routines. This then gets passed into the waveform driver routine\n",
    "[XLALSimInspiralSpinTaylorT4](http://software.ligo.org/docs/lalsuite/lalsimulation/group___l_a_l_sim_inspiral_spin_taylor__c.html#ga43f8a11e72b41797fef44c7b2134a1ba)\n",
    "\n",
    "Second for the template\n",
    "\n",
    "[LALInferenceTemplateXLALSimInspiralChooseWaveform](http://software.ligo.org/docs/lalsuite/lalinference/group___l_a_l_inference_template__h.html#ga8725ff30be0c84ea6be1e1cfb3a317ea) ==>\n",
    "[LALSimInspiralTransformPrecessingNewInitialConditions](http://software.ligo.org/docs/lalsuite/lalsimulation/group___l_a_l_sim_inspiral_spin_taylor__c.html#gacde647cce8c72a41d1dd0ac9e9b385da) ==>\n",
    "[XLALSimInspiralChooseTDWaveformFromCache](http://software.ligo.org/docs/lalsuite/lalsimulation/group___l_a_l_sim_inspiral_waveform_cache__h.html#ga21112bbad5c769738c19ddb56701e6ae)\n",
    "==> [XLALSimInspiralChooseTDWaveform](http://software.ligo.org/docs/lalsuite/lalsimulation/group___l_a_l_sim_inspiral__c.html#gaf8e3028cce411328ddc1a3efa6f43cb2) ==> [XLALSimInspiralInitialConditionsPrecessingApproxs](http://software.ligo.org/docs/lalsuite/lalsimulation/group___l_a_l_sim_inspiral_spin_taylor__c.html#gadc3d6ebbe9e62c8d7ea93b489db00bdb)\n",
    "\n",
    "\n",
    "The inclination,S1 S2 that are output by [LALSimInspiralTransformPrecessingNewInitialConditions](http://software.ligo.org/docs/lalsuite/lalsimulation/group___l_a_l_sim_inspiral_spin_taylor__c.html#gacde647cce8c72a41d1dd0ac9e9b385da) \n",
    "say they are in the right frame that can be passed into [XLALSimInspiralInitialConditionsPrecessingApproxs](http://software.ligo.org/docs/lalsuite/lalsimulation/group___l_a_l_sim_inspiral_spin_taylor__c.html#gadc3d6ebbe9e62c8d7ea93b489db00bdb)\n",
    "i.e. look at the final rotation done in the code.\n",
    " * 3466         /* Rotation 6: Now L is along z and we have to bring N\n",
    " * 3467          * in the x-z plane.\n",
    " * 3468          */\n",
    " * 3469         REAL8 phiN = atan2(Ny, Nx);\n",
    " * 3470         ROTATEZ(-phiN, s1hatx, s1haty, s1hatz);\n",
    " * 3471         ROTATEZ(-phiN, s2hatx, s2haty, s2hatz);\n",
    " * 3472 \n",
    " * 3473         /* Set pointers to rotated spin vectors */\n",
    " * 3474         *S1x = s1hatx*chi1;\n",
    " * 3475         *S1y = s1haty*chi1;\n",
    " * 3476         *S1z = s1hatz*chi1;\n",
    " * 3477         *S2x = s2hatx*chi2;\n",
    " * 3478         *S2y = s2haty*chi2;\n",
    " * 3479         *S2z = s2hatz*chi2;\n",
    "IT IS UNCLEAR IF THIS IS TRUE!!!!!!!!\n",
    "\n",
    "In fact there is a check to make sure this is true\n",
    "\n",
    " 3481         //Uncomment the following lines for a check of the rotation\n",
    " 3482         /*printf(\"LNhat should be along z, N in the x-z plane\\n\");\n",
    " 3483         ROTATEZ(-phiL,    LNhx, LNhy, LNhz);\n",
    " 3484         ROTATEY(-thetaLJ, LNhx, LNhy, LNhz);\n",
    " 3485         ROTATEZ(-phiN,    LNhx, LNhy, LNhz);\n",
    " 3486         ROTATEZ(-phiN,    Nx, Ny, LNz);\n",
    " 3487         ROTATEZ(-phi0, Jhatx, Jhaty, Jhatz);\n",
    " 3488         ROTATEY(-theta0, Jhatx, Jhaty, Jhatz);\n",
    " 3489         ROTATEZ(phiJL - LAL_PI, Jhatx, Jhaty, Jhatz);\n",
    " 3490         ROTATEZ(-phiL, Jhatx, Jhaty, Jhatz);\n",
    " 3491         ROTATEY(-thetaLJ, Jhatx, Jhaty, Jhatz);\n",
    " 3492         printf(\"LNhat: %12.4e  %12.4e  %12.4e\\n\",LNhx,LNhy,LNhz);\n",
    " 3493         printf(\"       %12.4e  %12.4e  %12.4e\\n\",0.,0.,1.);\n",
    " 3494         printf(\"N:     %12.4e  %12.4e  %12.4e\\n\",Nx,Ny,Nz);\n",
    " 3495         printf(\"       %12.4e  %12.4e  %12.4e\\n\",-sin(*incl),0.,cos(*incl));\n",
    " 3496         printf(\"J.Lhat  i: %12.4e f: %12.4e\\n\",Jz,Jnorm*Jhatz);\n",
    " 3497         printf(\"S1.L    i: %12.4e f: %12.4e\\n\",chi1*cos(theta1),*S1z);\n",
    " 3498         printf(\"S2.L    i: %12.4e f: %12.4e\\n\",chi2*cos(theta2),*S2z);\n",
    " 3499         printf(\"S1.S2   i: %12.4e f: %12.4e\\n\",chi1*chi2*(sin(theta1)*sin(theta2)*cos(phi12)+cos(theta1)*cos(theta2)),(*S1x)*(*S2x)+(*S1y)*(*S2y)+(*S1z)*(*S2z));*/"
   ]
  },
  {
   "cell_type": "markdown",
   "metadata": {
    "collapsed": true
   },
   "source": []
  }
 ],
 "metadata": {
  "kernelspec": {
   "display_name": "Python 2",
   "language": "python",
   "name": "python2"
  },
  "language_info": {
   "codemirror_mode": {
    "name": "ipython",
    "version": 2
   },
   "file_extension": ".py",
   "mimetype": "text/x-python",
   "name": "python",
   "nbconvert_exporter": "python",
   "pygments_lexer": "ipython2",
   "version": "2.7.10"
  }
 },
 "nbformat": 4,
 "nbformat_minor": 0
}
